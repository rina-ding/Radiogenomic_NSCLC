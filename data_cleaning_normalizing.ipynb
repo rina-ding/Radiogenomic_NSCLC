{
 "cells": [
  {
   "cell_type": "code",
   "execution_count": 47,
   "metadata": {},
   "outputs": [],
   "source": [
    "from lifelines.utils.sklearn_adapter import sklearn_adapter\n",
    "\n",
    "from lifelines import CoxPHFitter, KaplanMeierFitter\n",
    "from lifelines.datasets import load_rossi\n",
    "import matplotlib.pyplot as plt\n",
    "from sklearn.model_selection import GridSearchCV\n",
    "import scipy.io as sio\n",
    "import os\n",
    "import numpy as np\n",
    "import pandas as pd\n",
    "import math\n",
    "import natsort as ns\n",
    "from sklearn.preprocessing import MinMaxScaler, OrdinalEncoder\n",
    "from sklearn.feature_selection import SelectKBest, mutual_info_classif, SelectFdr, f_classif\n"
   ]
  },
  {
   "cell_type": "code",
   "execution_count": 48,
   "metadata": {},
   "outputs": [],
   "source": [
    "local_path_luad_lusc = '/Users/rinading/Desktop/UCLA/WQE/data/'\n",
    "df_radiomic_dev = pd.read_excel(os.path.join(local_path_luad_lusc, 'elife-23421-fig2-data1-v3.xlsx'), 'imaging', header = 0, index_col = 0)\n",
    "df_genomic_dev = pd.read_excel(os.path.join(local_path_luad_lusc, 'elife-23421-fig2-data1-v3.xlsx'), 'expression', header = 0, index_col = 0)\n",
    "df_clinical_dev = pd.read_excel(os.path.join(local_path_luad_lusc, 'elife-23421-fig2-data1-v3.xlsx'), 'clinical', header = 0, index_col = 0)\n",
    "\n",
    "df_radiomic_test = pd.read_excel(os.path.join(local_path_luad_lusc, 'elife-23421-fig2-data2-v3.xlsx'), 'imaging', header = 0, index_col = 0)\n",
    "df_genomic_test = pd.read_excel(os.path.join(local_path_luad_lusc, 'elife-23421-fig2-data2-v3.xlsx'), 'expression', header = 0, index_col = 0)\n",
    "df_clinical_test = pd.read_excel(os.path.join(local_path_luad_lusc, 'elife-23421-fig2-data2-v3.xlsx'), 'clinical', header = 0, index_col = 0)\n",
    "\n",
    "# df_genomic_dev = df_genomic_dev.T\n",
    "# df_genomic_test = df_genomic_test.T\n",
    "\n"
   ]
  },
  {
   "cell_type": "code",
   "execution_count": 49,
   "metadata": {},
   "outputs": [],
   "source": [
    "# Drop the patients who don't have clinical information\n",
    "df_clinical_dev_no_missing = df_clinical_dev.dropna(subset = ['surv.clinical.Event', 'surv.clinical.Time.Months'])\n",
    "df_clinical_test_no_missing = df_clinical_test.dropna()"
   ]
  },
  {
   "cell_type": "code",
   "execution_count": 50,
   "metadata": {},
   "outputs": [],
   "source": [
    "# Drop the irrelevant columns in radiomic feature files\n",
    "df_radiomic_dev = df_radiomic_dev.drop(columns = ['radiomics.Structure.Name', 'radiomics.Radiomics.Function', 'radiomics.Mapped.Structure.Name'])\n",
    "df_radiomic_test = df_radiomic_test.drop(columns = ['radiomics.Structure.Name', 'radiomics.Radiomics.Function', 'radiomics.Mapped.Structure.Name'])"
   ]
  },
  {
   "cell_type": "code",
   "execution_count": 51,
   "metadata": {},
   "outputs": [],
   "source": [
    "# delete patients who have 0 as survival time\n",
    "df_clinical_dev_no_missing = df_clinical_dev_no_missing[df_clinical_dev_no_missing['surv.clinical.Time.Months'] != 0]\n",
    "df_clinical_test_no_missing = df_clinical_test_no_missing[df_clinical_test_no_missing['surv.clinical.Time.Months'] != 0]"
   ]
  },
  {
   "cell_type": "code",
   "execution_count": 52,
   "metadata": {},
   "outputs": [],
   "source": [
    "def get_available_patients(df_clinical, df_features):\n",
    "    patients_with_clinical_indices = []\n",
    "    for i in range(len(df_clinical)):\n",
    "        for j in range(len(df_features)):\n",
    "            if df_clinical.index[i] == df_features.index[j]:\n",
    "                patients_with_clinical_indices.append(j)\n",
    "    return patients_with_clinical_indices\n",
    "\n",
    "def get_available_patients_genomic(df_clinical, df_features):\n",
    "    patients_with_clinical_indices = []\n",
    "    for i in range(len(df_clinical)):\n",
    "        for j in range(df_features.shape[1]):\n",
    "            if df_clinical.index[i] == df_features.columns[j]:\n",
    "                patients_with_clinical_indices.append(j)\n",
    "    return patients_with_clinical_indices"
   ]
  },
  {
   "cell_type": "code",
   "execution_count": 53,
   "metadata": {},
   "outputs": [],
   "source": [
    "# Only keep patients with clinical information for both radiomic and genomic files, both development and test sets.\n",
    "radiomic_patients_with_clinical_dev_indices = get_available_patients(df_clinical_dev_no_missing, df_radiomic_dev)\n",
    "df_radiomic_dev_no_missing = df_radiomic_dev.iloc[radiomic_patients_with_clinical_dev_indices, :]\n",
    "radiomic_patients_with_clinical_test_indices = get_available_patients(df_clinical_test_no_missing, df_radiomic_test)\n",
    "df_radiomic_test_no_missing = df_radiomic_test.iloc[radiomic_patients_with_clinical_test_indices, :]\n",
    "\n",
    "genomic_patients_with_clinical_dev_indices = get_available_patients_genomic(df_clinical_dev_no_missing, df_genomic_dev)\n",
    "df_genomic_dev_no_missing = df_genomic_dev.iloc[:, genomic_patients_with_clinical_dev_indices]\n",
    "genomic_patients_with_clinical_test_indices = get_available_patients_genomic(df_clinical_test_no_missing, df_genomic_test)\n",
    "df_genomic_test_no_missing = df_genomic_test.iloc[:, genomic_patients_with_clinical_test_indices]\n",
    "\n"
   ]
  },
  {
   "cell_type": "code",
   "execution_count": 57,
   "metadata": {},
   "outputs": [
    {
     "data": {
      "text/plain": [
       "(21766, 223)"
      ]
     },
     "execution_count": 57,
     "metadata": {},
     "output_type": "execute_result"
    }
   ],
   "source": [
    "df_genomic_dev_no_missing.shape"
   ]
  },
  {
   "cell_type": "code",
   "execution_count": 55,
   "metadata": {},
   "outputs": [],
   "source": [
    "#df_clinical_test_no_missing.to_excel('/Users/rinading/Desktop/clinical_test.xlsx')"
   ]
  },
  {
   "cell_type": "code",
   "execution_count": 56,
   "metadata": {},
   "outputs": [],
   "source": [
    "df_genomic_dev_no_missing.to_excel('/Users/rinading/Desktop/genomic_dev.xlsx')\n",
    "df_genomic_test_no_missing.to_excel('/Users/rinading/Desktop/genomic_test.xlsx')"
   ]
  },
  {
   "cell_type": "code",
   "execution_count": null,
   "metadata": {},
   "outputs": [],
   "source": [
    "# Somehow dev and test sets don't have the same number of radiomic features. Finding the common features only.\n",
    "common_radiomic_indices = []\n",
    "for i in range(df_radiomic_dev_no_missing.shape[1]):\n",
    "    for j in range(df_radiomic_test_no_missing.shape[1]):\n",
    "        if df_radiomic_dev_no_missing.columns[i] == df_radiomic_test_no_missing.columns[j]:\n",
    "            common_radiomic_indices.append(j)\n",
    "df_radiomic_test_no_missing = df_radiomic_test_no_missing.iloc[:, common_radiomic_indices]\n"
   ]
  },
  {
   "cell_type": "code",
   "execution_count": null,
   "metadata": {},
   "outputs": [],
   "source": [
    "# Normalize to have range 0 to 1. \n",
    "radiomic_scaler = MinMaxScaler(feature_range=(0, 1)).fit(df_radiomic_dev_no_missing)\n",
    "radiomic_normed_train = radiomic_scaler.transform(df_radiomic_dev_no_missing)\n",
    "radiomic_normed_test = radiomic_scaler.transform(df_radiomic_test_no_missing)\n",
    "df_radiomic_dev_no_missing_normed = pd.DataFrame(radiomic_normed_train)\n",
    "df_radiomic_dev_no_missing_normed.columns = df_radiomic_dev_no_missing.columns\n",
    "df_radiomic_test_no_missing_normed = pd.DataFrame(radiomic_normed_test)\n",
    "df_radiomic_test_no_missing_normed.columns = df_radiomic_test_no_missing.columns\n",
    "\n",
    "# Fill in missing value using the average feature value. \n",
    "df_radiomic_dev_no_missing_normed = df_radiomic_dev_no_missing_normed.fillna(df_radiomic_dev_no_missing_normed.mean())\n",
    "df_radiomic_test_no_missing_normed = df_radiomic_test_no_missing_normed.fillna(df_radiomic_test_no_missing_normed.mean())\n",
    "\n"
   ]
  },
  {
   "cell_type": "markdown",
   "metadata": {},
   "source": [
    "### # Converting gene IDs to symbols\n"
   ]
  },
  {
   "cell_type": "code",
   "execution_count": 60,
   "metadata": {},
   "outputs": [
    {
     "data": {
      "text/html": [
       "<div>\n",
       "<style scoped>\n",
       "    .dataframe tbody tr th:only-of-type {\n",
       "        vertical-align: middle;\n",
       "    }\n",
       "\n",
       "    .dataframe tbody tr th {\n",
       "        vertical-align: top;\n",
       "    }\n",
       "\n",
       "    .dataframe thead th {\n",
       "        text-align: right;\n",
       "    }\n",
       "</style>\n",
       "<table border=\"1\" class=\"dataframe\">\n",
       "  <thead>\n",
       "    <tr style=\"text-align: right;\">\n",
       "      <th></th>\n",
       "      <th>ID</th>\n",
       "    </tr>\n",
       "  </thead>\n",
       "  <tbody>\n",
       "    <tr>\n",
       "      <th>0</th>\n",
       "      <td>3643</td>\n",
       "    </tr>\n",
       "    <tr>\n",
       "      <th>1</th>\n",
       "      <td>84263</td>\n",
       "    </tr>\n",
       "    <tr>\n",
       "      <th>2</th>\n",
       "      <td>7171</td>\n",
       "    </tr>\n",
       "    <tr>\n",
       "      <th>3</th>\n",
       "      <td>2934</td>\n",
       "    </tr>\n",
       "    <tr>\n",
       "      <th>4</th>\n",
       "      <td>11052</td>\n",
       "    </tr>\n",
       "    <tr>\n",
       "      <th>...</th>\n",
       "      <td>...</td>\n",
       "    </tr>\n",
       "    <tr>\n",
       "      <th>21761</th>\n",
       "      <td>26782</td>\n",
       "    </tr>\n",
       "    <tr>\n",
       "      <th>21762</th>\n",
       "      <td>26779</td>\n",
       "    </tr>\n",
       "    <tr>\n",
       "      <th>21763</th>\n",
       "      <td>26778</td>\n",
       "    </tr>\n",
       "    <tr>\n",
       "      <th>21764</th>\n",
       "      <td>26777</td>\n",
       "    </tr>\n",
       "    <tr>\n",
       "      <th>21765</th>\n",
       "      <td>100132941</td>\n",
       "    </tr>\n",
       "  </tbody>\n",
       "</table>\n",
       "<p>21766 rows × 1 columns</p>\n",
       "</div>"
      ],
      "text/plain": [
       "              ID\n",
       "0           3643\n",
       "1          84263\n",
       "2           7171\n",
       "3           2934\n",
       "4          11052\n",
       "...          ...\n",
       "21761      26782\n",
       "21762      26779\n",
       "21763      26778\n",
       "21764      26777\n",
       "21765  100132941\n",
       "\n",
       "[21766 rows x 1 columns]"
      ]
     },
     "execution_count": 60,
     "metadata": {},
     "output_type": "execute_result"
    }
   ],
   "source": [
    "ID = pd.read_excel('/Users/rinading/Desktop/UCLA/WQE/data/GSEA/geneids.xlsx')\n",
    "ID"
   ]
  },
  {
   "cell_type": "code",
   "execution_count": 61,
   "metadata": {},
   "outputs": [
    {
     "name": "stdout",
     "output_type": "stream",
     "text": [
      "querying 1-1000...done.\n",
      "querying 1001-2000...done.\n",
      "querying 2001-3000...done.\n",
      "querying 3001-4000...done.\n",
      "querying 4001-5000...done.\n",
      "querying 5001-6000...done.\n",
      "querying 6001-7000...done.\n",
      "querying 7001-8000...done.\n",
      "querying 8001-9000...done.\n",
      "querying 9001-10000...done.\n",
      "querying 10001-11000...done.\n",
      "querying 11001-12000...done.\n",
      "querying 12001-13000...done.\n",
      "querying 13001-14000...done.\n",
      "querying 14001-15000...done.\n",
      "querying 15001-16000...done.\n",
      "querying 16001-17000...done.\n",
      "querying 17001-18000...done.\n",
      "querying 18001-19000...done.\n",
      "querying 19001-20000...done.\n",
      "querying 20001-21000...done.\n",
      "querying 21001-21766...done.\n"
     ]
    }
   ],
   "source": [
    "import mygene\n",
    "mg = mygene.MyGeneInfo()\n",
    "result = mg.getgenes(ID['ID'].values, fields = 'symbol,name')"
   ]
  },
  {
   "cell_type": "code",
   "execution_count": 77,
   "metadata": {},
   "outputs": [],
   "source": [
    "symbols = []\n",
    "for i in range(len(result)):\n",
    "    try:\n",
    "        symbols.append(result[i]['symbol'])\n",
    "    except:\n",
    "        symbols.append(np.nan)\n",
    "pd.DataFrame(symbols).to_excel('/Users/rinading/Desktop/UCLA/WQE/data/GSEA/genesymbols.xlsx', index = False)"
   ]
  },
  {
   "cell_type": "code",
   "execution_count": 80,
   "metadata": {},
   "outputs": [],
   "source": [
    "pd_symbols = pd.DataFrame(symbols)"
   ]
  },
  {
   "cell_type": "code",
   "execution_count": null,
   "metadata": {},
   "outputs": [],
   "source": []
  }
 ],
 "metadata": {
  "kernelspec": {
   "display_name": "Python 3",
   "language": "python",
   "name": "python3"
  },
  "language_info": {
   "codemirror_mode": {
    "name": "ipython",
    "version": 3
   },
   "file_extension": ".py",
   "mimetype": "text/x-python",
   "name": "python",
   "nbconvert_exporter": "python",
   "pygments_lexer": "ipython3",
   "version": "3.7.3"
  }
 },
 "nbformat": 4,
 "nbformat_minor": 2
}
